{
 "cells": [
  {
   "cell_type": "code",
   "execution_count": 1,
   "id": "2cb2afe0-3dc4-4755-9c2a-c5928a31396c",
   "metadata": {
    "tags": []
   },
   "outputs": [
    {
     "data": {
      "text/plain": [
       "[{'alt': 'emozia -  artificial intelligence',\n",
       "  'city': 'New York',\n",
       "  'description': '',\n",
       "  'images': 'https://d1qb2nb5cznatu.cloudfront.net/startups/i/299516-ad16f5cb063902d84838050198f60844-thumb_jpg.jpg?buster=1414090832',\n",
       "  'link': 'http://www.emozia.com',\n",
       "  'name': 'emozia'},\n",
       " {'alt': 'Cognitive Algorithms Laboratory -  artificial intelligence neuroscience Consciousness Behavioural Science',\n",
       "  'city': 'New York',\n",
       "  'description': 'Logical foundations of emotions and cognition\\nCAL Labs investigates the foundations of human intelligence and functional capacity. It lays the groundwork for both weak and strong AI by incorporating both top-down and bottom-up approaches to the evolutionary mechanisms that led to behaviorally modern humans. ...',\n",
       "  'images': 'https://d1qb2nb5cznatu.cloudfront.net/startups/i/393424-fde3b3e05708050dbcde259c2582c4eb-thumb_jpg.jpg?buster=1420437632',\n",
       "  'link': 'http://suketupatel.com',\n",
       "  'name': 'Cognitive Algorithms Laboratory'},\n",
       " {'alt': 'Intelligent Artifacts -  machine learning big data artificial intelligence',\n",
       "  'city': 'New York',\n",
       "  'description': 'Machine Learning As A Service\\nIntelligent Artifacts has developed GAIuS, a powerful framework for providing machine learning and artificial intelligence capabilities as a turnkey machine-learning-as-a service. Either in the cloud or as a locally installed appliance, it is designed with the ...',\n",
       "  'images': 'https://d1qb2nb5cznatu.cloudfront.net/startups/i/297024-a5819d18bc278f262e77aa7fd6cf2e4c-thumb_jpg.jpg?buster=1384881806',\n",
       "  'link': 'http://intelligent-artifacts.com/',\n",
       "  'name': 'Intelligent Artifacts'},\n",
       " {'alt': 'micropsi industries -  artificial intelligence software Researchers Artificial Neural Networks',\n",
       "  'city': 'Berlin',\n",
       "  'description': 'building cognitive machines\\nmicropsi industries is a software startup with roots in the artificial general intelligence community, building autonomous software agents and researching true cognitive machines. Micropsi, the cognitive architecture used in micropsi industries’ agents, defines ...',\n",
       "  'images': 'https://d1qb2nb5cznatu.cloudfront.net/startups/i/456625-066868ea8b149c5fc19cc760922cc96d-thumb_jpg.jpg?buster=1407490288',\n",
       "  'link': 'http://www.micropsi-industries.com',\n",
       "  'name': 'micropsi industries'},\n",
       " {'alt': 'Uprizer Labs -  peer-to-peer artificial intelligence software',\n",
       "  'city': 'Austin',\n",
       "  'description': '',\n",
       "  'images': 'https://d1qb2nb5cznatu.cloudfront.net/startups/i/45823-efecd2c1779e4ffd47463d25e12d8e53-thumb_jpg.jpg?buster=1326853911',\n",
       "  'link': 'http://sensearray.com/',\n",
       "  'name': 'Uprizer Labs'},\n",
       " {'alt': 'Weave.ai -  mobile artificial intelligence Deep Learning',\n",
       "  'city': 'London',\n",
       "  'description': '[Stealth] We do what we must because we can\\nWe will reveal what we are doing soon.',\n",
       "  'images': 'https://d1qb2nb5cznatu.cloudfront.net/startups/i/630339-38984c4a6253447ded9fac3732eb2fd8-thumb_jpg.jpg?buster=1434579111',\n",
       "  'link': 'http://weave.ai',\n",
       "  'name': 'Weave.ai'},\n",
       " {'alt': 'HyperScience -  machine learning big data artificial intelligence predictive analytics',\n",
       "  'city': 'New York',\n",
       "  'description': 'Automated Data Science\\nMost databases can only tell you about the past. HyperScience can tell you about the future. We build an automated data scientist that is easy to use and requires no data science, statistics or distributed computing expertise. It is self-configuring, self-tuning ...',\n",
       "  'images': 'https://d1qb2nb5cznatu.cloudfront.net/startups/i/527650-fc82b293e25d46b78f48e85bd1082cab-thumb_jpg.jpg?buster=1420853930',\n",
       "  'link': 'http://hyperscience.com',\n",
       "  'name': 'HyperScience'},\n",
       " {'alt': 'Voxster -  enterprise software artificial intelligence finance predictive analytics',\n",
       "  'city': 'London',\n",
       "  'description': 'A FinTech AI, designed to learn and augment trading knowledge\\nPersonal assistants like Siri, etc.. are becoming more useful as their interpretation ability increases. In the finance world, these intelligent agents are rare, very expensive and still have very basic uses due to the complexity of the environments they operate ...',\n",
       "  'images': 'https://d1qb2nb5cznatu.cloudfront.net/startups/i/232193-d3c1dc913a3468fcc8a2e76f2670ce07-thumb_jpg.jpg?buster=1373380141',\n",
       "  'link': 'http://voxster.co',\n",
       "  'name': 'Voxster'},\n",
       " {'alt': 'Humanoid -  cloud computing B2B artificial intelligence crowdsourcing',\n",
       "  'city': 'San Francisco',\n",
       "  'description': 'Labor in the Cloud. \\nHumanoid is a crowdsourcing QA and cost optimization technology built on top of Amazon Mechanical Turk. We use advanced machine learning techniques to model and predict how well individuals will perform different virtual tasks, then assign work to them in a way ...',\n",
       "  'images': 'https://d1qb2nb5cznatu.cloudfront.net/startups/i/813-dee9832dc76814506c31776e335189ab-thumb_jpg.jpg?buster=1320945988',\n",
       "  'link': 'http://getHumanoid.com',\n",
       "  'name': 'Humanoid'},\n",
       " {'alt': 'MagicBot Technologies -  professional services',\n",
       "  'city': 'New Delhi',\n",
       "  'description': 'Artificial Intelligence / Natural Language Processing\\nAt Magicbot Technologies, we are focussed on building the next generation of intelligent computing systems. MagicBot is a smart engine that can automate many manual functions that require basic human intelligence. It can navigate and mine information from the web, ...',\n",
       "  'images': 'https://d1qb2nb5cznatu.cloudfront.net/startups/i/172030-68f65649b363670cd98649fd4b633282-thumb_jpg.jpg?buster=1361432003',\n",
       "  'link': 'http://www.magicbot.in',\n",
       "  'name': 'MagicBot Technologies'}]"
      ]
     },
     "execution_count": 1,
     "metadata": {},
     "output_type": "execute_result"
    }
   ],
   "source": [
    "from neural_searcher import NeuralSearcher\n",
    "neural_searcher = NeuralSearcher(collection_name='startups')\n",
    "q = \"artificial intelligence\"\n",
    "neural_searcher.search(text=q)"
   ]
  }
 ],
 "metadata": {
  "kernelspec": {
   "display_name": "Python 3 (ipykernel)",
   "language": "python",
   "name": "python3"
  },
  "language_info": {
   "codemirror_mode": {
    "name": "ipython",
    "version": 3
   },
   "file_extension": ".py",
   "mimetype": "text/x-python",
   "name": "python",
   "nbconvert_exporter": "python",
   "pygments_lexer": "ipython3",
   "version": "3.11.4"
  }
 },
 "nbformat": 4,
 "nbformat_minor": 5
}
